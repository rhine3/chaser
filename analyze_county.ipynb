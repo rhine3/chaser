{
 "cells": [
  {
   "cell_type": "markdown",
   "metadata": {},
   "source": [
    "# Analyses on one county\n",
    "Demonstration of analysis on a single county's worth of frequency data"
   ]
  },
  {
   "cell_type": "code",
   "execution_count": 1,
   "metadata": {},
   "outputs": [],
   "source": [
    "import os\n",
    "import pandas as pd"
   ]
  },
  {
   "cell_type": "code",
   "execution_count": 2,
   "metadata": {},
   "outputs": [],
   "source": [
    "results_dir = \"county_results\"\n",
    "counties = [file for file in os.listdir(results_dir) if file.endswith('csv')][:20]"
   ]
  },
  {
   "cell_type": "code",
   "execution_count": 3,
   "metadata": {},
   "outputs": [],
   "source": [
    "def show_unique(series):\n",
    "    '''\n",
    "    Return a list of the unique\n",
    "    elements in a series\n",
    "    '''\n",
    "    \n",
    "    all_elements = list(series)\n",
    "    seen = set()\n",
    "    seen_add = seen.add\n",
    "    unique_elements = [x for x in all_elements if not (x in seen or seen_add(x))]\n",
    "\n",
    "    return unique_elements"
   ]
  },
  {
   "cell_type": "markdown",
   "metadata": {},
   "source": [
    "### Remove unwanted weeks"
   ]
  },
  {
   "cell_type": "code",
   "execution_count": 4,
   "metadata": {},
   "outputs": [],
   "source": [
    "november_desired = [f'November-{i}' for i in range(1,5)]\n",
    "december_desired = [f'December-{i}' for i in range(1,5)]\n",
    "january_desired = [f'January-{i}' for i in range(1,3)]\n",
    "desired_weeks = november_desired + december_desired + january_desired"
   ]
  },
  {
   "cell_type": "code",
   "execution_count": 5,
   "metadata": {},
   "outputs": [],
   "source": [
    "county_csv = counties[0]\n",
    "all_weeks_data = pd.read_csv(os.path.join(results_dir, county_csv), index_col='Unnamed: 0')\n",
    "desired_weeks_data = all_weeks_data[all_weeks_data['monthQt'].isin(desired_weeks)]"
   ]
  },
  {
   "cell_type": "code",
   "execution_count": 6,
   "metadata": {},
   "outputs": [
    {
     "name": "stdout",
     "output_type": "stream",
     "text": [
      "Weeks in dataset (before): ['January-1', 'January-2', 'January-3', 'January-4', 'February-1', 'February-2', 'February-3', 'February-4', 'March-1', 'March-2', 'March-3', 'March-4', 'April-1', 'April-2', 'April-3', 'April-4', 'May-1', 'May-2', 'May-3', 'May-4', 'June-1', 'June-2', 'June-3', 'June-4', 'July-1', 'July-2', 'July-3', 'July-4', 'August-1', 'August-2', 'August-3', 'August-4', 'September-1', 'September-2', 'September-3', 'September-4', 'October-1', 'October-2', 'October-3', 'October-4', 'November-1', 'November-2', 'November-3', 'November-4', 'December-1', 'December-2', 'December-3', 'December-4']\n",
      "Weeks in dataset (after): ['January-1', 'January-2', 'November-1', 'November-2', 'November-3', 'November-4', 'December-1', 'December-2', 'December-3', 'December-4']\n"
     ]
    }
   ],
   "source": [
    "print('Weeks in dataset (before):', show_unique(all_weeks_data['monthQt']))\n",
    "print('Weeks in dataset (after):', show_unique(desired_weeks_data['monthQt']))"
   ]
  },
  {
   "cell_type": "markdown",
   "metadata": {},
   "source": [
    "### Remove non-species designations from data"
   ]
  },
  {
   "cell_type": "code",
   "execution_count": 7,
   "metadata": {},
   "outputs": [],
   "source": [
    "clean_data = desired_weeks_data.loc[\n",
    "    # Remove anything that contains a dot (i.e. a \"spuh\")\n",
    "    ~(\n",
    "        desired_weeks_data['comName'].str.contains('\\.')\n",
    "    ) &\n",
    "    # Remove anything that contains a forward slash (i.e. an uncertain ID)\n",
    "    ~(\n",
    "        desired_weeks_data['comName'].str.contains('/')\n",
    "    ) &\n",
    "    # Remove anything that is a hybrid\n",
    "    ~(\n",
    "        desired_weeks_data['comName'].str.contains('hybrid')\n",
    "    )\n",
    "]"
   ]
  },
  {
   "cell_type": "code",
   "execution_count": 8,
   "metadata": {},
   "outputs": [
    {
     "name": "stdout",
     "output_type": "stream",
     "text": [
      "Species in dataset (before): ['Emperor Goose', 'Snow Goose', 'Greater White-fronted Goose', 'Brant', 'Cackling Goose', 'Canada Goose', 'Cackling/Canada Goose', 'goose sp.', 'Trumpeter Swan', 'Tundra Swan', 'Trumpeter/Tundra Swan', 'Northern Shoveler', 'Gadwall', 'Eurasian Wigeon', 'American Wigeon', 'Mallard', 'Northern Pintail', 'Green-winged Teal', 'dabbling duck sp.', 'Greater Scaup', 'Lesser Scaup', 'Greater/Lesser Scaup', \"Steller's Eider\", 'Spectacled Eider', 'King Eider', 'Common Eider', 'eider sp.', 'Harlequin Duck', 'Surf Scoter', 'White-winged Scoter', 'Black Scoter', 'scoter sp.', 'Long-tailed Duck', 'Bufflehead', 'Common Goldeneye', \"Barrow's Goldeneye\", 'Common Merganser', 'Red-breasted Merganser', 'Common/Red-breasted Merganser', 'merganser sp.', 'duck sp.', 'Willow Ptarmigan', 'Rock Ptarmigan', 'ptarmigan sp.', 'Horned Grebe', 'Red-necked Grebe', 'grebe sp.', 'Sandhill Crane', 'Black Oystercatcher', 'Black-bellied Plover', 'Pacific Golden-Plover', 'American/Pacific Golden-Plover (Lesser Golden-Plover)', 'Semipalmated Plover', 'Bristle-thighed Curlew', 'Whimbrel', 'Bar-tailed Godwit', 'Hudsonian Godwit', 'Marbled Godwit', 'Ruddy Turnstone', 'Black Turnstone', 'Surfbird', 'Sharp-tailed Sandpiper', 'Sanderling', 'Dunlin', 'Rock Sandpiper', 'Least Sandpiper', 'Pectoral Sandpiper', 'Semipalmated Sandpiper', 'Western Sandpiper', 'Semipalmated/Western Sandpiper', 'peep sp.', 'Short-billed Dowitcher', 'Long-billed Dowitcher', 'Short-billed/Long-billed Dowitcher', \"Wilson's Snipe\", 'Red-necked Phalarope', 'Red Phalarope', 'Red-necked/Red Phalarope', 'phalarope sp.', 'Wandering Tattler', 'Greater Yellowlegs', 'Lesser Yellowlegs', 'Greater/Lesser Yellowlegs', 'shorebird sp.', 'Pomarine Jaeger', 'Parasitic Jaeger', 'Long-tailed Jaeger', 'jaeger sp.', 'Common Murre', 'Thick-billed Murre', 'Common/Thick-billed Murre', 'Pigeon Guillemot', 'Marbled Murrelet', \"Kittlitz's Murrelet\", 'Ancient Murrelet', 'murrelet sp.', \"Cassin's Auklet\", 'Parakeet Auklet', 'Least Auklet', 'Whiskered Auklet', 'Crested Auklet', 'Rhinoceros Auklet', 'auklet sp.', 'Horned Puffin', 'Tufted Puffin', 'puffin sp.', 'alcid sp.', 'Black-legged Kittiwake', 'Red-legged Kittiwake', \"Sabine's Gull\", \"Bonaparte's Gull\", \"Ross's Gull\", \"Franklin's Gull\", 'Black-tailed Gull', 'Mew Gull', 'Herring Gull', 'Iceland Gull', 'Lesser Black-backed Gull', 'Slaty-backed Gull', 'Glaucous-winged Gull', 'Herring x Glaucous-winged Gull (hybrid)', 'Glaucous Gull', 'gull sp.', 'Aleutian Tern', 'Caspian Tern', 'Arctic Tern', 'tern sp.', 'Red-throated Loon', 'Pacific Loon', 'Common Loon', 'Yellow-billed Loon', 'loon sp.', 'Laysan Albatross', 'Black-footed Albatross', 'Short-tailed Albatross', 'Fork-tailed Storm-Petrel', \"Leach's Storm-Petrel\", 'Northern Fulmar', 'Mottled Petrel', 'Pink-footed Shearwater', \"Buller's Shearwater\", 'Sooty Shearwater', 'Short-tailed Shearwater', 'Sooty/Short-tailed Shearwater', 'shearwater sp.', 'Red-faced Cormorant', 'Pelagic Cormorant', 'Double-crested Cormorant', 'cormorant sp.', 'Osprey', 'Golden Eagle', 'Northern Harrier', 'Sharp-shinned Hawk', 'Northern Goshawk', 'Bald Eagle', 'Red-tailed Hawk', 'Rough-legged Hawk', 'Great Horned Owl', 'Short-eared Owl', 'Belted Kingfisher', 'Merlin', 'Gyrfalcon', 'Peregrine Falcon', 'falcon sp.', 'Northern Shrike', 'Black-billed Magpie', 'Common Raven', 'Tree Swallow', 'Bank Swallow', 'swallow sp.', 'Black-capped Chickadee', 'Pacific Wren', 'American Dipper', 'Golden-crowned Kinglet', 'Northern Wheatear', 'Gray-cheeked Thrush', \"Swainson's Thrush\", 'Hermit Thrush', 'American Robin', 'Eastern Yellow Wagtail', 'White Wagtail', 'American Pipit', 'Pine Grosbeak', 'Gray-crowned Rosy-Finch', 'Common Redpoll', 'Hoary Redpoll', 'Common/Hoary Redpoll', 'Pine Siskin', 'Lapland Longspur', 'Snow Bunting', \"McKay's Bunting\", 'American Tree Sparrow', 'Fox Sparrow', 'White-crowned Sparrow', 'Golden-crowned Sparrow', 'Savannah Sparrow', 'Song Sparrow', \"Lincoln's Sparrow\", 'Orange-crowned Warbler', 'Yellow Warbler', \"Wilson's Warbler\", 'passerine sp.']\n",
      "Species in dataset (after): ['Emperor Goose', 'Snow Goose', 'Greater White-fronted Goose', 'Brant', 'Cackling Goose', 'Canada Goose', 'Trumpeter Swan', 'Tundra Swan', 'Northern Shoveler', 'Gadwall', 'Eurasian Wigeon', 'American Wigeon', 'Mallard', 'Northern Pintail', 'Green-winged Teal', 'Greater Scaup', 'Lesser Scaup', \"Steller's Eider\", 'Spectacled Eider', 'King Eider', 'Common Eider', 'Harlequin Duck', 'Surf Scoter', 'White-winged Scoter', 'Black Scoter', 'Long-tailed Duck', 'Bufflehead', 'Common Goldeneye', \"Barrow's Goldeneye\", 'Common Merganser', 'Red-breasted Merganser', 'Willow Ptarmigan', 'Rock Ptarmigan', 'Horned Grebe', 'Red-necked Grebe', 'Sandhill Crane', 'Black Oystercatcher', 'Black-bellied Plover', 'Pacific Golden-Plover', 'Semipalmated Plover', 'Bristle-thighed Curlew', 'Whimbrel', 'Bar-tailed Godwit', 'Hudsonian Godwit', 'Marbled Godwit', 'Ruddy Turnstone', 'Black Turnstone', 'Surfbird', 'Sharp-tailed Sandpiper', 'Sanderling', 'Dunlin', 'Rock Sandpiper', 'Least Sandpiper', 'Pectoral Sandpiper', 'Semipalmated Sandpiper', 'Western Sandpiper', 'Short-billed Dowitcher', 'Long-billed Dowitcher', \"Wilson's Snipe\", 'Red-necked Phalarope', 'Red Phalarope', 'Wandering Tattler', 'Greater Yellowlegs', 'Lesser Yellowlegs', 'Pomarine Jaeger', 'Parasitic Jaeger', 'Long-tailed Jaeger', 'Common Murre', 'Thick-billed Murre', 'Pigeon Guillemot', 'Marbled Murrelet', \"Kittlitz's Murrelet\", 'Ancient Murrelet', \"Cassin's Auklet\", 'Parakeet Auklet', 'Least Auklet', 'Whiskered Auklet', 'Crested Auklet', 'Rhinoceros Auklet', 'Horned Puffin', 'Tufted Puffin', 'Black-legged Kittiwake', 'Red-legged Kittiwake', \"Sabine's Gull\", \"Bonaparte's Gull\", \"Ross's Gull\", \"Franklin's Gull\", 'Black-tailed Gull', 'Mew Gull', 'Herring Gull', 'Iceland Gull', 'Lesser Black-backed Gull', 'Slaty-backed Gull', 'Glaucous-winged Gull', 'Glaucous Gull', 'Aleutian Tern', 'Caspian Tern', 'Arctic Tern', 'Red-throated Loon', 'Pacific Loon', 'Common Loon', 'Yellow-billed Loon', 'Laysan Albatross', 'Black-footed Albatross', 'Short-tailed Albatross', 'Fork-tailed Storm-Petrel', \"Leach's Storm-Petrel\", 'Northern Fulmar', 'Mottled Petrel', 'Pink-footed Shearwater', \"Buller's Shearwater\", 'Sooty Shearwater', 'Short-tailed Shearwater', 'Red-faced Cormorant', 'Pelagic Cormorant', 'Double-crested Cormorant', 'Osprey', 'Golden Eagle', 'Northern Harrier', 'Sharp-shinned Hawk', 'Northern Goshawk', 'Bald Eagle', 'Red-tailed Hawk', 'Rough-legged Hawk', 'Great Horned Owl', 'Short-eared Owl', 'Belted Kingfisher', 'Merlin', 'Gyrfalcon', 'Peregrine Falcon', 'Northern Shrike', 'Black-billed Magpie', 'Common Raven', 'Tree Swallow', 'Bank Swallow', 'Black-capped Chickadee', 'Pacific Wren', 'American Dipper', 'Golden-crowned Kinglet', 'Northern Wheatear', 'Gray-cheeked Thrush', \"Swainson's Thrush\", 'Hermit Thrush', 'American Robin', 'Eastern Yellow Wagtail', 'White Wagtail', 'American Pipit', 'Pine Grosbeak', 'Gray-crowned Rosy-Finch', 'Common Redpoll', 'Hoary Redpoll', 'Pine Siskin', 'Lapland Longspur', 'Snow Bunting', \"McKay's Bunting\", 'American Tree Sparrow', 'Fox Sparrow', 'White-crowned Sparrow', 'Golden-crowned Sparrow', 'Savannah Sparrow', 'Song Sparrow', \"Lincoln's Sparrow\", 'Orange-crowned Warbler', 'Yellow Warbler', \"Wilson's Warbler\"]\n"
     ]
    }
   ],
   "source": [
    "print('Species in dataset (before):', show_unique(desired_weeks_data['comName']))\n",
    "print('Species in dataset (after):', show_unique(clean_data['comName']))"
   ]
  },
  {
   "cell_type": "markdown",
   "metadata": {},
   "source": [
    "### Remove species already on one's own life list"
   ]
  },
  {
   "cell_type": "code",
   "execution_count": 9,
   "metadata": {},
   "outputs": [],
   "source": [
    "life_data = pd.read_csv('csvs/tessa-lifelist.csv')\n",
    "\n",
    "# Break \"Species\" column into two columns, splitting on a hyphen with two spaces around it\n",
    "life_data[['Common Name','Scientific Name']] = life_data.Species.str.split(' - ', expand=True) \n"
   ]
  },
  {
   "cell_type": "code",
   "execution_count": 10,
   "metadata": {},
   "outputs": [],
   "source": [
    "my_lifelist = list(life_data['Common Name'])\n",
    "species_removed_data = clean_data[~ clean_data['comName'].isin(my_lifelist)]"
   ]
  },
  {
   "cell_type": "code",
   "execution_count": 11,
   "metadata": {},
   "outputs": [
    {
     "name": "stdout",
     "output_type": "stream",
     "text": [
      "Number of species before: 165\n",
      "Number of species after: 68\n"
     ]
    }
   ],
   "source": [
    "print('Number of species before:', len(show_unique(clean_data['comName'])))\n",
    "print('Number of species after:', len(show_unique(species_removed_data['comName'])))"
   ]
  },
  {
   "cell_type": "markdown",
   "metadata": {},
   "source": [
    "### Average frequencies over multiple weeks"
   ]
  },
  {
   "cell_type": "code",
   "execution_count": 12,
   "metadata": {},
   "outputs": [],
   "source": [
    "averaged_freqs = pd.DataFrame({'comName':[], 'frequency':[]})\n",
    "species = show_unique(species_removed_data['comName'])\n",
    "for idx, sp in enumerate(species):\n",
    "    freq = species_removed_data[\n",
    "        species_removed_data['comName'] == sp]['frequency'].mean()\n",
    "    averaged_freqs.loc[idx] = {'comName':sp, 'frequency':freq}"
   ]
  },
  {
   "cell_type": "code",
   "execution_count": 13,
   "metadata": {},
   "outputs": [
    {
     "name": "stdout",
     "output_type": "stream",
     "text": [
      "Rows before (number of species * number of weeks): 680\n",
      "Rows after (number of species): 68\n"
     ]
    }
   ],
   "source": [
    "print('Rows before (number of species * number of weeks):', species_removed_data.shape[0])\n",
    "print('Rows after (number of species):', averaged_freqs.shape[0])"
   ]
  },
  {
   "cell_type": "markdown",
   "metadata": {},
   "source": [
    "### Eliminate species with frequency below a certain level "
   ]
  },
  {
   "cell_type": "code",
   "execution_count": 14,
   "metadata": {},
   "outputs": [
    {
     "data": {
      "text/html": [
       "<div>\n",
       "<style scoped>\n",
       "    .dataframe tbody tr th:only-of-type {\n",
       "        vertical-align: middle;\n",
       "    }\n",
       "\n",
       "    .dataframe tbody tr th {\n",
       "        vertical-align: top;\n",
       "    }\n",
       "\n",
       "    .dataframe thead th {\n",
       "        text-align: right;\n",
       "    }\n",
       "</style>\n",
       "<table border=\"1\" class=\"dataframe\">\n",
       "  <thead>\n",
       "    <tr style=\"text-align: right;\">\n",
       "      <th></th>\n",
       "      <th>comName</th>\n",
       "      <th>frequency</th>\n",
       "    </tr>\n",
       "  </thead>\n",
       "  <tbody>\n",
       "    <tr>\n",
       "      <th>0</th>\n",
       "      <td>Emperor Goose</td>\n",
       "      <td>0.222419</td>\n",
       "    </tr>\n",
       "    <tr>\n",
       "      <th>3</th>\n",
       "      <td>Steller's Eider</td>\n",
       "      <td>0.141393</td>\n",
       "    </tr>\n",
       "    <tr>\n",
       "      <th>15</th>\n",
       "      <td>Rock Sandpiper</td>\n",
       "      <td>0.132314</td>\n",
       "    </tr>\n",
       "    <tr>\n",
       "      <th>50</th>\n",
       "      <td>Northern Fulmar</td>\n",
       "      <td>0.101936</td>\n",
       "    </tr>\n",
       "    <tr>\n",
       "      <th>58</th>\n",
       "      <td>Black-billed Magpie</td>\n",
       "      <td>0.194961</td>\n",
       "    </tr>\n",
       "    <tr>\n",
       "      <th>64</th>\n",
       "      <td>Gray-crowned Rosy-Finch</td>\n",
       "      <td>0.136209</td>\n",
       "    </tr>\n",
       "  </tbody>\n",
       "</table>\n",
       "</div>"
      ],
      "text/plain": [
       "                    comName  frequency\n",
       "0             Emperor Goose   0.222419\n",
       "3           Steller's Eider   0.141393\n",
       "15           Rock Sandpiper   0.132314\n",
       "50          Northern Fulmar   0.101936\n",
       "58      Black-billed Magpie   0.194961\n",
       "64  Gray-crowned Rosy-Finch   0.136209"
      ]
     },
     "execution_count": 14,
     "metadata": {},
     "output_type": "execute_result"
    }
   ],
   "source": [
    "threshold = 0.1\n",
    "averaged_freqs[averaged_freqs['frequency'] > threshold]"
   ]
  }
 ],
 "metadata": {
  "kernelspec": {
   "display_name": "Python 3",
   "language": "python",
   "name": "python3"
  },
  "language_info": {
   "codemirror_mode": {
    "name": "ipython",
    "version": 3
   },
   "file_extension": ".py",
   "mimetype": "text/x-python",
   "name": "python",
   "nbconvert_exporter": "python",
   "pygments_lexer": "ipython3",
   "version": "3.6.8"
  }
 },
 "nbformat": 4,
 "nbformat_minor": 2
}
