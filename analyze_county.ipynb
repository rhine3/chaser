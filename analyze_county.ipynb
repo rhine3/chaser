{
 "cells": [
  {
   "cell_type": "code",
   "execution_count": 1,
   "metadata": {},
   "outputs": [],
   "source": [
    "import os\n",
    "import pandas as pd"
   ]
  },
  {
   "cell_type": "code",
   "execution_count": 2,
   "metadata": {},
   "outputs": [],
   "source": [
    "results_dir = \"county_results\"\n",
    "counties = [file for file in os.listdir(results_dir) if file.endswith('csv')][:20]"
   ]
  },
  {
   "cell_type": "markdown",
   "metadata": {},
   "source": [
    "# Analyses on one county"
   ]
  },
  {
   "cell_type": "markdown",
   "metadata": {},
   "source": [
    "### Remove unwanted weeks"
   ]
  },
  {
   "cell_type": "code",
   "execution_count": 3,
   "metadata": {},
   "outputs": [],
   "source": [
    "november_desired = [f'November-{i}' for i in range(1,5)]\n",
    "december_desired = [f'December-{i}' for i in range(1,5)]\n",
    "january_desired = [f'January-{i}' for i in range(1,3)]\n",
    "desired_weeks = november_desired + december_desired + january_desired"
   ]
  },
  {
   "cell_type": "code",
   "execution_count": 4,
   "metadata": {},
   "outputs": [],
   "source": [
    "county_csv = counties[0]\n",
    "county_name = county_csv[:-4] #remove .csv\n",
    "all_weeks_data = pd.read_csv(os.path.join(results_dir, county_csv), index_col='Unnamed: 0')\n",
    "desired_weeks_data = all_weeks_data[all_weeks_data['monthQt'].isin(desired_weeks)]"
   ]
  },
  {
   "cell_type": "markdown",
   "metadata": {},
   "source": [
    "### Remove non-species designations from data"
   ]
  },
  {
   "cell_type": "code",
   "execution_count": 5,
   "metadata": {},
   "outputs": [],
   "source": [
    "clean_data = desired_weeks_data.loc[\n",
    "    # Remove anything that contains a dot (i.e. a \"spuh\")\n",
    "    ~(\n",
    "        desired_weeks_data['comName'].str.contains('\\.')\n",
    "    ) &\n",
    "    # Remove anything that contains a forward slash (i.e. an uncertain ID)\n",
    "    ~(\n",
    "        desired_weeks_data['comName'].str.contains('/')\n",
    "    ) &\n",
    "    # Remove anything that is a hybrid\n",
    "    ~(\n",
    "        desired_weeks_data['comName'].str.contains('hybrid')\n",
    "    )\n",
    "]"
   ]
  },
  {
   "cell_type": "markdown",
   "metadata": {},
   "source": [
    "### Remove species already on one's own life list"
   ]
  },
  {
   "cell_type": "code",
   "execution_count": 6,
   "metadata": {},
   "outputs": [],
   "source": [
    "life_data = pd.read_csv('csvs/tessa-lifelist.csv')\n",
    "\n",
    "# Break \"Species\" column into two columns, splitting on a hyphen with two spaces around it\n",
    "life_data[['Common Name','Scientific Name']] = life_data.Species.str.split(' - ', expand=True) \n"
   ]
  },
  {
   "cell_type": "code",
   "execution_count": 7,
   "metadata": {},
   "outputs": [],
   "source": [
    "my_lifelist = list(life_data['Common Name'])\n",
    "species_removed_data = clean_data[~ clean_data['comName'].isin(my_lifelist)]"
   ]
  },
  {
   "cell_type": "markdown",
   "metadata": {},
   "source": [
    "### Average frequencies over multiple weeks"
   ]
  },
  {
   "cell_type": "code",
   "execution_count": 8,
   "metadata": {},
   "outputs": [],
   "source": [
    "def show_unique(series):\n",
    "    '''\n",
    "    Return a list of the unique\n",
    "    elements in a series\n",
    "    '''\n",
    "    \n",
    "    all_elements = list(series)\n",
    "    seen = set()\n",
    "    seen_add = seen.add\n",
    "    unique_elements = [x for x in all_elements if not (x in seen or seen_add(x))]\n",
    "\n",
    "    return unique_elements"
   ]
  },
  {
   "cell_type": "code",
   "execution_count": 9,
   "metadata": {},
   "outputs": [],
   "source": [
    "averaged_freqs = pd.DataFrame({'comName':[], 'frequency':[]})\n",
    "species = show_unique(species_removed_data['comName'])\n",
    "for idx, sp in enumerate(species):\n",
    "    freq = species_removed_data[\n",
    "        species_removed_data['comName'] == sp]['frequency'].mean()\n",
    "    averaged_freqs.loc[idx] = {'comName':sp, 'frequency':freq}"
   ]
  },
  {
   "cell_type": "markdown",
   "metadata": {},
   "source": [
    "### Eliminate species with frequency below a certain level "
   ]
  },
  {
   "cell_type": "code",
   "execution_count": 10,
   "metadata": {},
   "outputs": [
    {
     "data": {
      "text/html": [
       "<div>\n",
       "<style scoped>\n",
       "    .dataframe tbody tr th:only-of-type {\n",
       "        vertical-align: middle;\n",
       "    }\n",
       "\n",
       "    .dataframe tbody tr th {\n",
       "        vertical-align: top;\n",
       "    }\n",
       "\n",
       "    .dataframe thead th {\n",
       "        text-align: right;\n",
       "    }\n",
       "</style>\n",
       "<table border=\"1\" class=\"dataframe\">\n",
       "  <thead>\n",
       "    <tr style=\"text-align: right;\">\n",
       "      <th></th>\n",
       "      <th>comName</th>\n",
       "      <th>frequency</th>\n",
       "    </tr>\n",
       "  </thead>\n",
       "  <tbody>\n",
       "    <tr>\n",
       "      <th>0</th>\n",
       "      <td>Emperor Goose</td>\n",
       "      <td>0.222419</td>\n",
       "    </tr>\n",
       "    <tr>\n",
       "      <th>3</th>\n",
       "      <td>Steller's Eider</td>\n",
       "      <td>0.141393</td>\n",
       "    </tr>\n",
       "    <tr>\n",
       "      <th>15</th>\n",
       "      <td>Rock Sandpiper</td>\n",
       "      <td>0.132314</td>\n",
       "    </tr>\n",
       "    <tr>\n",
       "      <th>50</th>\n",
       "      <td>Northern Fulmar</td>\n",
       "      <td>0.101936</td>\n",
       "    </tr>\n",
       "    <tr>\n",
       "      <th>58</th>\n",
       "      <td>Black-billed Magpie</td>\n",
       "      <td>0.194961</td>\n",
       "    </tr>\n",
       "    <tr>\n",
       "      <th>64</th>\n",
       "      <td>Gray-crowned Rosy-Finch</td>\n",
       "      <td>0.136209</td>\n",
       "    </tr>\n",
       "  </tbody>\n",
       "</table>\n",
       "</div>"
      ],
      "text/plain": [
       "                    comName  frequency\n",
       "0             Emperor Goose   0.222419\n",
       "3           Steller's Eider   0.141393\n",
       "15           Rock Sandpiper   0.132314\n",
       "50          Northern Fulmar   0.101936\n",
       "58      Black-billed Magpie   0.194961\n",
       "64  Gray-crowned Rosy-Finch   0.136209"
      ]
     },
     "execution_count": 10,
     "metadata": {},
     "output_type": "execute_result"
    }
   ],
   "source": [
    "threshold = 0.1\n",
    "averaged_freqs[averaged_freqs['frequency'] > threshold]"
   ]
  }
 ],
 "metadata": {
  "kernelspec": {
   "display_name": "Python 3",
   "language": "python",
   "name": "python3"
  },
  "language_info": {
   "codemirror_mode": {
    "name": "ipython",
    "version": 3
   },
   "file_extension": ".py",
   "mimetype": "text/x-python",
   "name": "python",
   "nbconvert_exporter": "python",
   "pygments_lexer": "ipython3",
   "version": "3.6.8"
  }
 },
 "nbformat": 4,
 "nbformat_minor": 2
}
