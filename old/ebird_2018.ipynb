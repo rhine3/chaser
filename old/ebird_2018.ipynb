{
 "cells": [
  {
   "cell_type": "markdown",
   "metadata": {},
   "source": [
    "**For the last year of complete data,**\n",
    "\n",
    "How many eBirders...\n",
    "* Submitted any type of observation?\n",
    "* Submitted at least one no-X eBird checklist?\n",
    "* Submitted at least one complete checklist?\n",
    "* Submitted at least one “eligible” checklist (complete & no Xs)\n",
    "* Submitted only presence/absence observations\n",
    "* Did a point count (versus a traveling count)?\n",
    "\n",
    "How many eBird lists...\n",
    "* Were there in total?\n",
    "* Were there with only presence/absence information?\n",
    "* Were no-X?\n",
    "* Were complete?\n",
    "* Were “eligible?”\n",
    "\n",
    "How many eBird observations...\n",
    "* Were submitted in total?\n",
    "* Were submitted that include abundance?\n"
   ]
  },
  {
   "cell_type": "code",
   "execution_count": 4,
   "metadata": {},
   "outputs": [],
   "source": [
    "dataset = '/Volumes/seagate-storage/code/ebird_data/ebd_relJan-2019.txt'"
   ]
  },
  {
   "cell_type": "code",
   "execution_count": null,
   "metadata": {},
   "outputs": [],
   "source": [
    "pandas.load()"
   ]
  }
 ],
 "metadata": {
  "kernelspec": {
   "display_name": "Python 3",
   "language": "python",
   "name": "python3"
  },
  "language_info": {
   "codemirror_mode": {
    "name": "ipython",
    "version": 3
   },
   "file_extension": ".py",
   "mimetype": "text/x-python",
   "name": "python",
   "nbconvert_exporter": "python",
   "pygments_lexer": "ipython3",
   "version": "3.6.8"
  }
 },
 "nbformat": 4,
 "nbformat_minor": 2
}
