{
 "cells": [
  {
   "cell_type": "code",
   "execution_count": 1,
   "metadata": {},
   "outputs": [],
   "source": [
    "from chaser import analyze_county\n",
    "import os"
   ]
  },
  {
   "cell_type": "markdown",
   "metadata": {},
   "source": [
    "# Get paths to life list and county frequencies"
   ]
  },
  {
   "cell_type": "code",
   "execution_count": 2,
   "metadata": {},
   "outputs": [],
   "source": [
    "life_list_path = './csvs/tessa-lifelist.csv'\n",
    "results_dir = './county_results'\n",
    "counties = [file for file in os.listdir(results_dir) if file.endswith('csv')]"
   ]
  },
  {
   "cell_type": "markdown",
   "metadata": {},
   "source": [
    "# Select counties and weeks to analyze"
   ]
  },
  {
   "cell_type": "code",
   "execution_count": 3,
   "metadata": {},
   "outputs": [],
   "source": [
    "november_desired = [f'November-{i}' for i in range(1,5)]\n",
    "december_desired = [f'December-{i}' for i in range(1,5)]\n",
    "january_desired = [f'January-{i}' for i in range(1,3)]\n",
    "desired_weeks = november_desired + december_desired + january_desired"
   ]
  },
  {
   "cell_type": "code",
   "execution_count": 4,
   "metadata": {},
   "outputs": [],
   "source": [
    "tx = [county for county in counties if 'TX' in county]\n",
    "az = [county for county in counties if 'AZ' in county]\n",
    "nm = [county for county in counties if 'NM' in county]\n",
    "all_three = tx+az+nm"
   ]
  },
  {
   "cell_type": "markdown",
   "metadata": {},
   "source": [
    "# Analyze and display results"
   ]
  },
  {
   "cell_type": "code",
   "execution_count": 5,
   "metadata": {},
   "outputs": [],
   "source": [
    "no_lifers = []\n",
    "has_lifers = []\n",
    "for county in all_three:\n",
    "    county_path = os.path.join(results_dir, county)\n",
    "    results = analyze_county(\n",
    "        freq_path = county_path,\n",
    "        life_list_path = life_list_path,\n",
    "        desired_weeks = desired_weeks,\n",
    "        freq_thresh = 0.10)\n",
    "    \n",
    "    # Print results\n",
    "    county_name = county[:-4]\n",
    "    if results.empty: \n",
    "        no_lifers.append(county_name)\n",
    "    else:\n",
    "        has_lifers.append(results.rename_axis(county_name))"
   ]
  },
  {
   "cell_type": "code",
   "execution_count": 6,
   "metadata": {},
   "outputs": [
    {
     "name": "stdout",
     "output_type": "stream",
     "text": [
      "                             comName  frequency\n",
      "US-TX-215                                      \n",
      "0          Golden-fronted Woodpecker   0.662027\n",
      "1                     Great Kiskadee   0.660779\n",
      "2                          Green Jay   0.520672\n",
      "3             Black-crested Titmouse   0.433425\n",
      "4                   Plain Chachalaca   0.394858\n",
      "5                          Inca Dove   0.380257\n",
      "6           Ladder-backed Woodpecker   0.371787\n",
      "7                  White-tipped Dove   0.310807\n",
      "8               Long-billed Thrasher   0.307892\n",
      "9           Buff-bellied Hummingbird   0.286849\n",
      "10                       Least Grebe   0.240289\n",
      "11                     Harris's Hawk   0.226276\n",
      "12             Curve-billed Thrasher   0.224840\n",
      "13                      Mottled Duck   0.219198\n",
      "14                   Altamira Oriole   0.211076\n",
      "15                  Green Kingfisher   0.190821\n",
      "16                Common Ground-Dove   0.182260\n",
      "17               Clay-colored Thrush   0.177967\n",
      "18                   Common Pauraque   0.154796\n",
      "19                     Olive Sparrow   0.149093\n",
      "20                  Couch's Kingbird   0.148934\n",
      "21                 Tropical Kingbird   0.144885\n",
      "22                         Gray Hawk   0.128085\n",
      "23                     Cinnamon Teal   0.127034\n",
      "24                 Ringed Kingfisher   0.121138\n",
      "                             comName  frequency\n",
      "US-TX-427                                      \n",
      "0                          Green Jay   0.651315\n",
      "1          Golden-fronted Woodpecker   0.581086\n",
      "2                     Great Kiskadee   0.566523\n",
      "3           Ladder-backed Woodpecker   0.487750\n",
      "4                    Altamira Oriole   0.434245\n",
      "5             Black-crested Titmouse   0.423556\n",
      "6               Long-billed Thrasher   0.392612\n",
      "7                   Audubon's Oriole   0.305628\n",
      "8                          Inca Dove   0.298194\n",
      "9                  White-tipped Dove   0.293481\n",
      "10                 Ringed Kingfisher   0.275959\n",
      "11                     Olive Sparrow   0.269969\n",
      "12                       Pyrrhuloxia   0.265532\n",
      "13                Common Ground-Dove   0.202241\n",
      "14                  Plain Chachalaca   0.202013\n",
      "15                         Gray Hawk   0.195821\n",
      "16                            Verdin   0.193026\n",
      "17                     Harris's Hawk   0.173695\n",
      "18                Greater Roadrunner   0.160642\n",
      "19             Curve-billed Thrasher   0.152365\n",
      "20                  Green Kingfisher   0.131150\n",
      "                             comName  frequency\n",
      "US-TX-311                                      \n",
      "0          Golden-fronted Woodpecker   0.734088\n",
      "1                          Green Jay   0.638599\n",
      "2                      Harris's Hawk   0.540746\n",
      "3           Ladder-backed Woodpecker   0.493038\n",
      "4          Scissor-tailed Flycatcher   0.354833\n",
      "5                             Verdin   0.310076\n",
      "6               Long-billed Thrasher   0.293274\n",
      "7                       Mottled Duck   0.275131\n",
      "8             Black-crested Titmouse   0.271683\n",
      "9                        Least Grebe   0.261925\n",
      "10                    Great Kiskadee   0.231721\n",
      "11                     Olive Sparrow   0.223596\n",
      "12                     Cinnamon Teal   0.221493\n",
      "13                       Pyrrhuloxia   0.218214\n",
      "14                   Northern Jacana   0.192630\n",
      "15            Fulvous Whistling-Duck   0.190059\n",
      "16                  Audubon's Oriole   0.184614\n",
      "17                  Couch's Kingbird   0.170527\n",
      "18                Greater Roadrunner   0.136655\n",
      "19                Common Ground-Dove   0.105333\n"
     ]
    }
   ],
   "source": [
    "top_counties = sorted(has_lifers, key = lambda df: df.shape[0], reverse=True)\n",
    "for i in top_counties[:3]:\n",
    "    print(i)"
   ]
  },
  {
   "cell_type": "code",
   "execution_count": null,
   "metadata": {},
   "outputs": [],
   "source": []
  }
 ],
 "metadata": {
  "kernelspec": {
   "display_name": "Python 3",
   "language": "python",
   "name": "python3"
  },
  "language_info": {
   "codemirror_mode": {
    "name": "ipython",
    "version": 3
   },
   "file_extension": ".py",
   "mimetype": "text/x-python",
   "name": "python",
   "nbconvert_exporter": "python",
   "pygments_lexer": "ipython3",
   "version": "3.6.8"
  }
 },
 "nbformat": 4,
 "nbformat_minor": 2
}
