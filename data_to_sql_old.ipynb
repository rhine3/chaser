{
 "cells": [
  {
   "cell_type": "markdown",
   "metadata": {},
   "source": [
    "# Number of lines in file"
   ]
  },
  {
   "cell_type": "code",
   "execution_count": 17,
   "metadata": {},
   "outputs": [],
   "source": [
    "data_file = '/Volumes/seagate-storage/code/ebird_data/ebd_relJan-2019.txt'\n",
    "count = 0\n",
    "for line in open(data_file): count += 1"
   ]
  },
  {
   "cell_type": "code",
   "execution_count": 18,
   "metadata": {},
   "outputs": [
    {
     "data": {
      "text/plain": [
       "577335302"
      ]
     },
     "execution_count": 18,
     "metadata": {},
     "output_type": "execute_result"
    }
   ],
   "source": [
    "count"
   ]
  },
  {
   "cell_type": "code",
   "execution_count": 6,
   "metadata": {},
   "outputs": [
    {
     "name": "stdout",
     "output_type": "stream",
     "text": [
      "GLOBAL UNIQUE IDENTIFIER\tLAST EDITED DATE\tTAXONOMIC ORDER\tCATEGORY\tCOMMON NAME\tSCIENTIFIC NAME\tSUBSPECIES COMMON NAME\tSUBSPECIES SCIENTIFIC NAME\tOBSERVATION COUNT\tBREEDING BIRD ATLAS CODE\tBREEDING BIRD ATLAS CATEGORY\tAGE/SEX\tCOUNTRY\tCOUNTRY CODE\tSTATE\tSTATE CODE\tCOUNTY\tCOUNTY CODE\tIBA CODE\tBCR CODE\tUSFWS CODE\tATLAS BLOCK\tLOCALITY\tLOCALITY ID\t LOCALITY TYPE\tLATITUDE\tLONGITUDE\tOBSERVATION DATE\tTIME OBSERVATIONS STARTED\tOBSERVER ID\tSAMPLING EVENT IDENTIFIER\tPROTOCOL TYPE\tPROTOCOL CODE\tPROJECT CODE\tDURATION MINUTES\tEFFORT DISTANCE KM\tEFFORT AREA HA\tNUMBER OBSERVERS\tALL SPECIES REPORTED\tGROUP IDENTIFIER\tHAS MEDIA\tAPPROVED\tREVIEWED\tREASON\tTRIP COMMENTS\tSPECIES COMMENTS\n",
      "URN:CornellLabOfOrnithology:EBIRD:OBS34169564\t2014-10-16 08:19:55\t6171\tspecies\tBonaparte's Gull\tChroicocephalus philadelphia\t\t\t6\t\t\t\tCanada\tCA\tQuebec\tCA-QC\tNicolet-Yamaska\tCA-QC-NY\t\t\t\t\tPort St-François\tL352699\tP\t46.2722222\t-72.6111111\t2006-10-14\t10:00:00\tobsr31597\tS2495584\tTraveling\tP22\tEBIRD_CAN\t60\t1\t\t1\t0\t\t0\t1\t0\t\tTerns are late!\t\n"
     ]
    }
   ],
   "source": [
    "%%bash\n",
    "head -2 /Volumes/seagate-storage/code/ebird_data/ebd_relJan-2019.txt"
   ]
  },
  {
   "cell_type": "markdown",
   "metadata": {},
   "source": [
    "# Store data in a database"
   ]
  },
  {
   "cell_type": "markdown",
   "metadata": {},
   "source": [
    "* Determine which columns to store\n",
    "* Store a small subset of text file\n",
    "* Practice looking into subset DB\n",
    "* Do chaser on subset\n",
    "* Store entire DB (or just USA, Canada?)\n",
    "* Do chaser "
   ]
  },
  {
   "cell_type": "code",
   "execution_count": null,
   "metadata": {},
   "outputs": [],
   "source": [
    "GLOBAL UNIQUE IDENTIFIER\t                    LAST EDITED DATE\t        TAXONOMIC ORDER\t    CATEGORY\t    COMMON NAME\t        SCIENTIFIC NAME\t               SUBSPECIES COMMON NAME\tSUBSPECIES SCIENTIFIC NAME\tOBSERVATION COUNT\tBREEDING BIRD ATLAS CODE\tBREEDING BIRD ATLAS CATEGORY\tAGE/SEX\tCOUNTRY\tCOUNTRY CODE\tSTATE\tSTATE CODE\tCOUNTY\t            COUNTY CODE\tIBA CODE\tBCR CODE\tUSFWS CODE\tATLAS BLOCK\tLOCALITY\t        LOCALITY ID\tLOCALITY TYPE\tLATITUDE\tLONGITUDE\tOBSERVATION DATE\tTIME OBSERVATIONS STARTED\tOBSERVER ID\tSAMPLING EVENT IDENTIFIER\tPROTOCOL TYPE\tPROTOCOL CODE\tPROJECT CODE\tDURATION MINUTES\tEFFORT DISTANCE KM\tEFFORT AREA HA\tNUMBER OBSERVERS\tALL SPECIES REPORTED\tGROUP IDENTIFIER\tHAS MEDIA\tAPPROVED\tREVIEWED\tREASON\tTRIP COMMENTS\tSPECIES COMMENTS\n",
    "URN:CornellLabOfOrnithology:EBIRD:OBS34169564\t2014-10-16 08:19:55\t        6171\t            species\t        Bonaparte's Gull\tChroicocephalus philadelphia\t\t                    \t                        6\t                \t                        \t                        \t        Canada\tCA\t            Quebec\tCA-QC\t     Nicolet-Yamaska\tCA-QC-NY\t\t        \t        \t        \t        Port St-François\tL352699\t    P\t            46.2722222\t-72.6111111\t2006-10-14\t         10:00:00\t                obsr31597\tS2495584\t                Traveling\t    P22\t            EBIRD_CAN\t    60\t                1\t                \t            1\t                0\t                    \t                0\t        1\t        0\t        \t    Terns are late!\t\n",
    "                \n",
    "NEEDED ROWS:\n",
    "Last edited date, category, common name, scientific name, observation count, country, state, latitude, longitude, observation date, observer id, protocol type\n",
    "                    \n",
    "                    "
   ]
  },
  {
   "cell_type": "code",
   "execution_count": 1,
   "metadata": {},
   "outputs": [],
   "source": [
    "import pandas as pd"
   ]
  },
  {
   "cell_type": "code",
   "execution_count": 2,
   "metadata": {},
   "outputs": [],
   "source": [
    "import time"
   ]
  },
  {
   "cell_type": "code",
   "execution_count": 3,
   "metadata": {},
   "outputs": [],
   "source": [
    "from sqlalchemy import create_engine\n",
    "from sqlalchemy_utils import database_exists, create_database\n"
   ]
  },
  {
   "cell_type": "code",
   "execution_count": 51,
   "metadata": {},
   "outputs": [],
   "source": [
    "engine2 = create_engine(\"sqlite:////Volumes/seagate-storage/db/ebird_2018_small.db\")\n",
    "if not database_exists(engine.url):\n",
    "    create_database(engine.url)"
   ]
  },
  {
   "cell_type": "code",
   "execution_count": 58,
   "metadata": {},
   "outputs": [],
   "source": [
    "data_file = '/Volumes/seagate-storage/code/ebird_data/ebd_relJan-2019.txt'\n",
    "#data_file = '/Volumes/seagate-storage/code/ebird_data/medium_dataset.txt'"
   ]
  },
  {
   "cell_type": "code",
   "execution_count": 59,
   "metadata": {},
   "outputs": [],
   "source": [
    "num_lines = 577335302 #from previous analysis\n",
    "chunk_size = 1000000 # number of lines to read at once\n",
    "num_chunks = 3 # number of chunks to test on"
   ]
  },
  {
   "cell_type": "code",
   "execution_count": 47,
   "metadata": {},
   "outputs": [
    {
     "data": {
      "text/plain": [
       "['LAST EDITED DATE',\n",
       " 'CATEGORY',\n",
       " 'COMMON NAME',\n",
       " 'SCIENTIFIC NAME',\n",
       " 'OBSERVATION COUNT',\n",
       " 'COUNTRY',\n",
       " 'STATE',\n",
       " 'LATITUDE',\n",
       " 'LONGITUDE',\n",
       " 'OBSERVATION DATE',\n",
       " 'OBSERVER ID',\n",
       " 'PROTOCOL TYPE',\n",
       " 'ALL SPECIES REPORTED']"
      ]
     },
     "execution_count": 47,
     "metadata": {},
     "output_type": "execute_result"
    }
   ],
   "source": [
    "the_cols = [\n",
    "        'Last edited date', \n",
    "        'category', \n",
    "        'common name', \n",
    "        'scientific name', \n",
    "        'observation count', \n",
    "        'country', \n",
    "        'state', \n",
    "        'latitude', \n",
    "        'longitude', \n",
    "        'observation date', \n",
    "        'observer id', \n",
    "        'protocol type',\n",
    "        'ALL SPECIES REPORTED',\n",
    "]\n",
    "\n",
    "desired_cols = [item.upper() for item in the_cols]\n",
    "desired_cols"
   ]
  },
  {
   "cell_type": "code",
   "execution_count": 44,
   "metadata": {},
   "outputs": [
    {
     "data": {
      "text/html": [
       "<div>\n",
       "<style scoped>\n",
       "    .dataframe tbody tr th:only-of-type {\n",
       "        vertical-align: middle;\n",
       "    }\n",
       "\n",
       "    .dataframe tbody tr th {\n",
       "        vertical-align: top;\n",
       "    }\n",
       "\n",
       "    .dataframe thead th {\n",
       "        text-align: right;\n",
       "    }\n",
       "</style>\n",
       "<table border=\"1\" class=\"dataframe\">\n",
       "  <thead>\n",
       "    <tr style=\"text-align: right;\">\n",
       "      <th></th>\n",
       "      <th>bye</th>\n",
       "      <th>meh</th>\n",
       "    </tr>\n",
       "  </thead>\n",
       "  <tbody>\n",
       "    <tr>\n",
       "      <th>1</th>\n",
       "      <td>9</td>\n",
       "      <td>42</td>\n",
       "    </tr>\n",
       "  </tbody>\n",
       "</table>\n",
       "</div>"
      ],
      "text/plain": [
       "   bye  meh\n",
       "1    9   42"
      ]
     },
     "execution_count": 44,
     "metadata": {},
     "output_type": "execute_result"
    }
   ],
   "source": [
    "just_byemeh = pd.DataFrame({'hi':[0, 1, 2], 'bye':[8, 9, 9], 'meh':[42, 42, 20]}, index=[0, 1, 2])[['bye', 'meh']]\n",
    "just_byemeh.loc[just_byemeh['meh'] == 42]\n",
    "\n",
    "just_byemeh.loc[\n",
    "    (just_byemeh['meh'] == 42) & \n",
    "    (just_byemeh['bye'] == 9)]"
   ]
  },
  {
   "cell_type": "code",
   "execution_count": 77,
   "metadata": {},
   "outputs": [
    {
     "name": "stdout",
     "output_type": "stream",
     "text": [
      "Iteration 0:\n",
      "  Lines saved to DB: 3\n",
      "  Minutes elapsed: 0.005988717079162598\n",
      "Time to process rows: 0.3595271110534668\n"
     ]
    }
   ],
   "source": [
    "\n",
    "engine = create_engine(\"sqlite:////Volumes/seagate-storage/db/ebird_2018.db\")\n",
    "if not database_exists(engine.url):\n",
    "    create_database(engine.url)\n",
    "    \n",
    "    \n",
    "    \n",
    "the_cols = [\n",
    "        'Last edited date', \n",
    "        'category', \n",
    "        'common name', \n",
    "        'scientific name', \n",
    "        'observation count', \n",
    "        'country', \n",
    "        'state', \n",
    "        'latitude', \n",
    "        'longitude', \n",
    "        'observation date', \n",
    "        'observer id', \n",
    "        'protocol type',\n",
    "        'ALL SPECIES REPORTED',\n",
    "]\n",
    "\n",
    "desired_cols = [item.upper() for item in the_cols]\n",
    "desired_cols\n",
    "\n",
    "\n",
    "data_file = '/Volumes/seagate-storage/code/evil_project/example_dataset.txt' #'/Volumes/seagate-storage/code/ebird_data/ebd_relJan-2019.txt'\n",
    "\n",
    "\n",
    "num_lines = 577335302 #from previous analysis\n",
    "chunk_size = 1000000 # number of lines to read at once\n",
    "\n",
    "\n",
    "def process(chunk):\n",
    "    \n",
    "    only_2018 = chunk.loc[\n",
    "        (chunk['LAST EDITED DATE'].dt.year == 2018) &\n",
    "        (chunk['OBSERVATION DATE'].dt.year == 2018)]\n",
    "    \n",
    "    if only_2018.shape[0]: # if this DF has anything in it\n",
    "        only_2018.to_sql('ebird_data_2018', engine, if_exists='append')\n",
    "\n",
    "    return only_2018\n",
    "\n",
    "t1 = time.time()\n",
    "\n",
    "lines_saved_to_db = 0\n",
    "counter = 0\n",
    "\n",
    "for chunk in pd.read_csv(\n",
    "    data_file, \n",
    "    sep='\\t', \n",
    "    #index_col = ['SAMPLING EVENT IDENTIFIER'],\n",
    "    usecols = desired_cols,\n",
    "    parse_dates = ['LAST EDITED DATE', 'OBSERVATION DATE'], \n",
    "    chunksize=chunk_size):\n",
    "    \n",
    "    '''\n",
    "    '''\n",
    "    \n",
    "    finished_chunk = process(chunk)\n",
    "    lines_saved_to_db += finished_chunk.shape[0]\n",
    "\n",
    "    if not counter % 100:\n",
    "        print(f\"Iteration {counter}:\")\n",
    "        print(f\"  Lines saved to DB: {lines_saved_to_db}\")\n",
    "        print(f\"  Minutes elapsed: {(time.time()-t1)/60}\")\n",
    "    counter += 1\n",
    "    \n",
    "    \n",
    "t2 = time.time()\n",
    "\n",
    "process_time = t2-t1\n",
    "print('Time to process rows:', process_time)\n",
    "\n",
    "#est_time = (num_lines/(chunk_size*num_chunks))*process_time\n",
    "#print('Estimated time (seconds) for all rows:', est_time)"
   ]
  },
  {
   "cell_type": "code",
   "execution_count": null,
   "metadata": {},
   "outputs": [],
   "source": []
  },
  {
   "cell_type": "code",
   "execution_count": null,
   "metadata": {},
   "outputs": [],
   "source": []
  },
  {
   "cell_type": "code",
   "execution_count": null,
   "metadata": {},
   "outputs": [],
   "source": []
  },
  {
   "cell_type": "markdown",
   "metadata": {},
   "source": [
    "Reading the whole DF:\n",
    "\n",
    "```\n",
    "chunk_size = 1000000 # number of lines to read at once\n",
    "num_chunks = 3 # number of chunks to test on\n",
    "\n",
    "(1000000, 46)\n",
    "(1000000, 46)\n",
    "(1000000, 46)\n",
    "Time to process 3 rows: 23.173866748809814\n",
    "Estimated time for all rows: 4459.697119310624\n",
    "\n",
    "\n",
    "---\n",
    "\n",
    "chunk_size = 3000000 # number of lines to read at once\n",
    "num_chunks = 1 # number of chunks to test on\n",
    "\n",
    "(3000000, 46)\n",
    "Time to process rows: 23.521601915359497\n",
    "Estimated time (seconds) for all rows: 4526.6170484426175\n",
    "\n",
    "---\n",
    "\n",
    "chunk_size = 500000 # number of lines to read at once\n",
    "num_chunks = 6 # number of chunks to test on\n",
    "\n",
    "(500000, 46)\n",
    "(500000, 46)\n",
    "(500000, 46)\n",
    "(500000, 46)\n",
    "(500000, 46)\n",
    "(500000, 46)\n",
    "Time to process rows: 24.359390020370483\n",
    "Estimated time (seconds) for all rows: 4687.845264648793\n",
    "```\n",
    "\n",
    "Reading only desired columns, with `parse_dates`\n",
    "```\n",
    "(500000, 12)\n",
    "(500000, 12)\n",
    "(500000, 12)\n",
    "(500000, 12)\n",
    "(500000, 12)\n",
    "(500000, 12)\n",
    "Time to process rows: 13.444914102554321\n",
    "Estimated time (seconds) for all rows: 2587.407847920753\n",
    "```\n",
    "\n",
    "Reading only desired columns, without `parse_dates`:\n",
    "\n",
    "```\n",
    "(500000, 12)\n",
    "(500000, 12)\n",
    "(500000, 12)\n",
    "(500000, 12)\n",
    "(500000, 12)\n",
    "(500000, 12)\n",
    "Time to process rows: 11.651726961135864\n",
    "Estimated time (seconds) for all rows: 2242.3177679763053\n",
    "```\n"
   ]
  },
  {
   "cell_type": "code",
   "execution_count": null,
   "metadata": {},
   "outputs": [],
   "source": []
  },
  {
   "cell_type": "code",
   "execution_count": null,
   "metadata": {},
   "outputs": [],
   "source": []
  },
  {
   "cell_type": "code",
   "execution_count": null,
   "metadata": {},
   "outputs": [],
   "source": []
  },
  {
   "cell_type": "code",
   "execution_count": null,
   "metadata": {},
   "outputs": [],
   "source": []
  },
  {
   "cell_type": "code",
   "execution_count": null,
   "metadata": {},
   "outputs": [],
   "source": [
    "pd.read_csv(small_data_file, sep='\\t').to_sql('test_ebird_data', engine)"
   ]
  },
  {
   "cell_type": "code",
   "execution_count": 40,
   "metadata": {},
   "outputs": [
    {
     "name": "stderr",
     "output_type": "stream",
     "text": [
      "ERROR:root:Internal Python error in the inspect module.\n",
      "Below is the traceback from this internal error.\n",
      "\n"
     ]
    },
    {
     "name": "stdout",
     "output_type": "stream",
     "text": [
      "Traceback (most recent call last):\n",
      "  File \"/anaconda3/lib/python3.6/site-packages/IPython/core/interactiveshell.py\", line 3291, in run_code\n",
      "    exec(code_obj, self.user_global_ns, self.user_ns)\n",
      "  File \"<ipython-input-40-088db2b34f23>\", line 3, in <module>\n",
      "    pd.read_csv(small_data_file, sep='\\t').to_sql('test_ebird_data', engine)\n",
      "  File \"/anaconda3/lib/python3.6/site-packages/pandas/core/generic.py\", line 1534, in to_sql\n",
      "    chunksize=chunksize, dtype=dtype)\n",
      "  File \"/anaconda3/lib/python3.6/site-packages/pandas/io/sql.py\", line 473, in to_sql\n",
      "    chunksize=chunksize, dtype=dtype)\n",
      "  File \"/anaconda3/lib/python3.6/site-packages/pandas/io/sql.py\", line 1155, in to_sql\n",
      "    table.create()\n",
      "  File \"/anaconda3/lib/python3.6/site-packages/pandas/io/sql.py\", line 592, in create\n",
      "    raise ValueError(\"Table '%s' already exists.\" % self.name)\n",
      "ValueError: Table 'test_ebird_data' already exists.\n",
      "\n",
      "During handling of the above exception, another exception occurred:\n",
      "\n",
      "Traceback (most recent call last):\n",
      "  File \"/anaconda3/lib/python3.6/site-packages/IPython/core/interactiveshell.py\", line 2033, in showtraceback\n",
      "    stb = value._render_traceback_()\n",
      "AttributeError: 'ValueError' object has no attribute '_render_traceback_'\n",
      "\n",
      "During handling of the above exception, another exception occurred:\n",
      "\n",
      "Traceback (most recent call last):\n",
      "  File \"/anaconda3/lib/python3.6/site-packages/IPython/core/ultratb.py\", line 1095, in get_records\n",
      "    return _fixed_getinnerframes(etb, number_of_lines_of_context, tb_offset)\n",
      "  File \"/anaconda3/lib/python3.6/site-packages/IPython/core/ultratb.py\", line 313, in wrapped\n",
      "    return f(*args, **kwargs)\n",
      "  File \"/anaconda3/lib/python3.6/site-packages/IPython/core/ultratb.py\", line 347, in _fixed_getinnerframes\n",
      "    records = fix_frame_records_filenames(inspect.getinnerframes(etb, context))\n",
      "  File \"/anaconda3/lib/python3.6/inspect.py\", line 1490, in getinnerframes\n",
      "    frameinfo = (tb.tb_frame,) + getframeinfo(tb, context)\n",
      "  File \"/anaconda3/lib/python3.6/inspect.py\", line 1448, in getframeinfo\n",
      "    filename = getsourcefile(frame) or getfile(frame)\n",
      "  File \"/anaconda3/lib/python3.6/inspect.py\", line 696, in getsourcefile\n",
      "    if getattr(getmodule(object, filename), '__loader__', None) is not None:\n",
      "  File \"/anaconda3/lib/python3.6/inspect.py\", line 725, in getmodule\n",
      "    file = getabsfile(object, _filename)\n",
      "  File \"/anaconda3/lib/python3.6/inspect.py\", line 709, in getabsfile\n",
      "    return os.path.normcase(os.path.abspath(_filename))\n",
      "  File \"/anaconda3/lib/python3.6/posixpath.py\", line 383, in abspath\n",
      "    cwd = os.getcwd()\n",
      "FileNotFoundError: [Errno 2] No such file or directory\n"
     ]
    },
    {
     "ename": "ValueError",
     "evalue": "Table 'test_ebird_data' already exists.",
     "output_type": "error",
     "traceback": [
      "\u001b[0;31m---------------------------------------------------------------------------\u001b[0m"
     ]
    }
   ],
   "source": [
    "import pandas as pd\n",
    "small_data_file = '/Volumes/seagate-storage/code/ebird_data/test_dataset.txt'\n",
    "pd.read_csv(small_data_file, sep='\\t').to_sql('test_ebird_data', engine)"
   ]
  },
  {
   "cell_type": "markdown",
   "metadata": {},
   "source": [
    "# Clean up data"
   ]
  },
  {
   "cell_type": "code",
   "execution_count": 54,
   "metadata": {},
   "outputs": [],
   "source": [
    "import time\n",
    "from sqlalchemy import create_engine\n",
    "from sqlalchemy_utils import database_exists, create_database\n",
    "import pandas as pd\n",
    "from functools import wraps\n",
    "from time import time"
   ]
  },
  {
   "cell_type": "code",
   "execution_count": null,
   "metadata": {},
   "outputs": [],
   "source": [
    "small_db = pd.read_sql('test_ebird_data',con=engine)"
   ]
  },
  {
   "cell_type": "code",
   "execution_count": 42,
   "metadata": {},
   "outputs": [
    {
     "data": {
      "text/plain": [
       "Index(['index', 'GLOBAL UNIQUE IDENTIFIER', 'LAST EDITED DATE',\n",
       "       'TAXONOMIC ORDER', 'CATEGORY', 'COMMON NAME', 'SCIENTIFIC NAME',\n",
       "       'SUBSPECIES COMMON NAME', 'SUBSPECIES SCIENTIFIC NAME',\n",
       "       'OBSERVATION COUNT', 'BREEDING BIRD ATLAS CODE',\n",
       "       'BREEDING BIRD ATLAS CATEGORY', 'AGE/SEX', 'COUNTRY', 'COUNTRY CODE',\n",
       "       'STATE', 'STATE CODE', 'COUNTY', 'COUNTY CODE', 'IBA CODE', 'BCR CODE',\n",
       "       'USFWS CODE', 'ATLAS BLOCK', 'LOCALITY', 'LOCALITY ID',\n",
       "       ' LOCALITY TYPE', 'LATITUDE', 'LONGITUDE', 'OBSERVATION DATE',\n",
       "       'TIME OBSERVATIONS STARTED', 'OBSERVER ID', 'SAMPLING EVENT IDENTIFIER',\n",
       "       'PROTOCOL TYPE', 'PROTOCOL CODE', 'PROJECT CODE', 'DURATION MINUTES',\n",
       "       'EFFORT DISTANCE KM', 'EFFORT AREA HA', 'NUMBER OBSERVERS',\n",
       "       'ALL SPECIES REPORTED', 'GROUP IDENTIFIER', 'HAS MEDIA', 'APPROVED',\n",
       "       'REVIEWED', 'REASON', 'TRIP COMMENTS', 'SPECIES COMMENTS'],\n",
       "      dtype='object')"
      ]
     },
     "execution_count": 42,
     "metadata": {},
     "output_type": "execute_result"
    }
   ],
   "source": [
    "small_db.columns"
   ]
  },
  {
   "cell_type": "markdown",
   "metadata": {},
   "source": [
    "### Keep only the needed columns"
   ]
  },
  {
   "cell_type": "code",
   "execution_count": 59,
   "metadata": {},
   "outputs": [
    {
     "name": "stdout",
     "output_type": "stream",
     "text": [
      "func took: 17.197799921035767 sec\n"
     ]
    }
   ],
   "source": [
    "def timing(f):\n",
    "    @wraps(f)\n",
    "    def wrap(*args, **kw):\n",
    "        ts = time()\n",
    "        result = f(*args, **kw)\n",
    "        te = time()\n",
    "        print('func took: {} sec'.format(te-ts))\n",
    "        return result\n",
    "    return wrap\n",
    "\n",
    "\n",
    "def process_chunk(chunk_df):\n",
    "    new_df = chunk_df[['COMMON NAME','LATITUDE', 'LONGITUDE', 'OBSERVATION DATE']]\n",
    "    new_df.to_sql('med_occ', medium_engine, if_exists='append')\n",
    "\n",
    "@timing\n",
    "def process_all_data(engine_path, data_path):\n",
    "    engine = create_engine('sqlite:///'+engine_path)\n",
    "    for chunk in pd.read_csv(data_path, sep='\\t', chunksize=100):\n",
    "        process_chunk(chunk)\n",
    "\n",
    "\n",
    "process_all_data(\n",
    "    engine_path='/Volumes/seagate-storage/db/large_ebird.db', \n",
    "    data_path='/Volumes/seagate-storage/code/ebird_data/large_dataset.txt')"
   ]
  },
  {
   "cell_type": "code",
   "execution_count": 43,
   "metadata": {},
   "outputs": [
    {
     "data": {
      "text/html": [
       "<div>\n",
       "<style scoped>\n",
       "    .dataframe tbody tr th:only-of-type {\n",
       "        vertical-align: middle;\n",
       "    }\n",
       "\n",
       "    .dataframe tbody tr th {\n",
       "        vertical-align: top;\n",
       "    }\n",
       "\n",
       "    .dataframe thead th {\n",
       "        text-align: right;\n",
       "    }\n",
       "</style>\n",
       "<table border=\"1\" class=\"dataframe\">\n",
       "  <thead>\n",
       "    <tr style=\"text-align: right;\">\n",
       "      <th></th>\n",
       "      <th>COMMON NAME</th>\n",
       "      <th>LATITUDE</th>\n",
       "      <th>LONGITUDE</th>\n",
       "      <th>OBSERVATION DATE</th>\n",
       "    </tr>\n",
       "  </thead>\n",
       "  <tbody>\n",
       "    <tr>\n",
       "      <th>0</th>\n",
       "      <td>Bonaparte's Gull</td>\n",
       "      <td>46.272222</td>\n",
       "      <td>-72.611111</td>\n",
       "      <td>2006-10-14</td>\n",
       "    </tr>\n",
       "    <tr>\n",
       "      <th>1</th>\n",
       "      <td>Long-tailed Duck</td>\n",
       "      <td>43.468586</td>\n",
       "      <td>-76.507357</td>\n",
       "      <td>2008-01-06</td>\n",
       "    </tr>\n",
       "    <tr>\n",
       "      <th>2</th>\n",
       "      <td>Herring Gull</td>\n",
       "      <td>43.468586</td>\n",
       "      <td>-76.507357</td>\n",
       "      <td>2008-01-06</td>\n",
       "    </tr>\n",
       "    <tr>\n",
       "      <th>3</th>\n",
       "      <td>American Robin</td>\n",
       "      <td>49.307119</td>\n",
       "      <td>-123.004286</td>\n",
       "      <td>2008-04-05</td>\n",
       "    </tr>\n",
       "    <tr>\n",
       "      <th>4</th>\n",
       "      <td>Stewart Island Shag</td>\n",
       "      <td>-45.797810</td>\n",
       "      <td>170.714986</td>\n",
       "      <td>2008-01-25</td>\n",
       "    </tr>\n",
       "    <tr>\n",
       "      <th>5</th>\n",
       "      <td>Silver-eye</td>\n",
       "      <td>-45.797810</td>\n",
       "      <td>170.714986</td>\n",
       "      <td>2008-01-25</td>\n",
       "    </tr>\n",
       "    <tr>\n",
       "      <th>6</th>\n",
       "      <td>New Zealand Bellbird</td>\n",
       "      <td>-45.797810</td>\n",
       "      <td>170.714986</td>\n",
       "      <td>2008-01-25</td>\n",
       "    </tr>\n",
       "    <tr>\n",
       "      <th>7</th>\n",
       "      <td>Yellowhammer</td>\n",
       "      <td>-45.797810</td>\n",
       "      <td>170.714986</td>\n",
       "      <td>2008-01-25</td>\n",
       "    </tr>\n",
       "    <tr>\n",
       "      <th>8</th>\n",
       "      <td>Little Pied Cormorant</td>\n",
       "      <td>-45.797810</td>\n",
       "      <td>170.714986</td>\n",
       "      <td>2008-01-25</td>\n",
       "    </tr>\n",
       "  </tbody>\n",
       "</table>\n",
       "</div>"
      ],
      "text/plain": [
       "             COMMON NAME   LATITUDE   LONGITUDE OBSERVATION DATE\n",
       "0       Bonaparte's Gull  46.272222  -72.611111       2006-10-14\n",
       "1       Long-tailed Duck  43.468586  -76.507357       2008-01-06\n",
       "2           Herring Gull  43.468586  -76.507357       2008-01-06\n",
       "3         American Robin  49.307119 -123.004286       2008-04-05\n",
       "4    Stewart Island Shag -45.797810  170.714986       2008-01-25\n",
       "5             Silver-eye -45.797810  170.714986       2008-01-25\n",
       "6   New Zealand Bellbird -45.797810  170.714986       2008-01-25\n",
       "7           Yellowhammer -45.797810  170.714986       2008-01-25\n",
       "8  Little Pied Cormorant -45.797810  170.714986       2008-01-25"
      ]
     },
     "execution_count": 43,
     "metadata": {},
     "output_type": "execute_result"
    }
   ],
   "source": [
    "small_database = database[['COMMON NAME','LATITUDE', 'LONGITUDE', 'OBSERVATION DATE']]\n",
    "small_database"
   ]
  }
 ],
 "metadata": {
  "kernelspec": {
   "display_name": "Python 3",
   "language": "python",
   "name": "python3"
  },
  "language_info": {
   "codemirror_mode": {
    "name": "ipython",
    "version": 3
   },
   "file_extension": ".py",
   "mimetype": "text/x-python",
   "name": "python",
   "nbconvert_exporter": "python",
   "pygments_lexer": "ipython3",
   "version": "3.6.8"
  }
 },
 "nbformat": 4,
 "nbformat_minor": 2
}
