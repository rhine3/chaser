{
 "cells": [
  {
   "cell_type": "markdown",
   "metadata": {},
   "source": [
    "# The One County Curse\n",
    "Greg Majewski asks: if you could only bird in counties sharing the same name, which name could get you the biggest list? We can use the eBird data to figure this out. "
   ]
  },
  {
   "cell_type": "code",
   "execution_count": 1,
   "metadata": {},
   "outputs": [],
   "source": [
    "import os\n",
    "import pandas as pd"
   ]
  },
  {
   "cell_type": "markdown",
   "metadata": {},
   "source": [
    "I have already downloaded the eBird data for every county in the United States using `rebird`. (For instructions on how to do this, see [here](https://github.com/rhine3/chaser/blob/master/download_freqs.Rmd)). I am using the 2018 taxonomy, so this doesn't reflect current answers--but it probably comes close.\n",
    "\n",
    "Each county is in a `.csv` in the directory `county_results/`. The files are named by county codes (e.g. `'US-AK-013.csv'`); let's first get a list of all the county codes we have. "
   ]
  },
  {
   "cell_type": "code",
   "execution_count": 2,
   "metadata": {},
   "outputs": [],
   "source": [
    "county_codes = [file[:-4] for file in os.listdir('county_results/') if file[:2] == 'US']"
   ]
  },
  {
   "cell_type": "markdown",
   "metadata": {},
   "source": [
    "Next, I have downloaded a file from eBird (`'list.csv'`) which provides a mapping from county codes to county names. You can download it by clicking on this link: [county code csv](https://web.archive.org/web/20170823200026/http://ebird.org/ws1.1/ref/location/list?rtype=subnational2). We'll use this to get all the county codes associated with a single county name."
   ]
  },
  {
   "cell_type": "code",
   "execution_count": 3,
   "metadata": {},
   "outputs": [],
   "source": [
    "# Get all the entries from US counties in 'list.csv'\n",
    "county_df = pd.read_csv('list.csv')\n",
    "usa_county_df = county_df[county_df['SUBNATIONAL2_CODE'].isin(county_codes)]\n",
    "\n",
    "# Get unique list of county names\n",
    "usa_county_names = set(usa_county_df['SUBNATIONAL2_NAME'])\n",
    "\n",
    "# Create a dictionary mapping each county name to county code(s)\n",
    "county_dict = {}\n",
    "for name in usa_county_names:\n",
    "    county_dict[name] = list(usa_county_df[usa_county_df['SUBNATIONAL2_NAME'] == name].SUBNATIONAL2_CODE)"
   ]
  },
  {
   "cell_type": "markdown",
   "metadata": {},
   "source": [
    "Now, use the `rebird` data to create a species list for every county name. We will have to remove some non-species in each county, including hybrids and \"spuhs\" or \"slashes.\" In the future, this operation would be faster if I just downloaded a list of all ebird species, created a `set` of spuhs/slashes called `non_spp`, and did this set operation in the loop: `spp_only = all_taxa - non_spp`"
   ]
  },
  {
   "cell_type": "code",
   "execution_count": 4,
   "metadata": {},
   "outputs": [],
   "source": [
    "spp_dict = {}\n",
    "for name in usa_county_names:\n",
    "    all_codes = county_dict[name]\n",
    "    number_of_counties = len(all_codes)\n",
    "    county_list = []\n",
    "\n",
    "    # Add all species to the name's list\n",
    "    for code in all_codes:\n",
    "        all_taxa = set(pd.read_csv('county_results/' + code + '.csv')['comName'])\n",
    "        \n",
    "        # Remove any non-species level records\n",
    "        spp_only = [x for x in all_taxa if not (('.' in x) or ('/' in x) or ('hybrid' in x))]\n",
    "        \n",
    "        # Add all species to list\n",
    "        county_list.extend(spp_only)\n",
    "        \n",
    "    # For this name, make an entry: the number of counties \n",
    "    # that have this name, and the unique set of species\n",
    "    spp_dict[name] = (number_of_counties, set(county_list))"
   ]
  },
  {
   "cell_type": "markdown",
   "metadata": {},
   "source": [
    "Sort the results by number of species that each county has, and print them up."
   ]
  },
  {
   "cell_type": "code",
   "execution_count": 5,
   "metadata": {},
   "outputs": [
    {
     "name": "stdout",
     "output_type": "stream",
     "text": [
      "The best counties to bird in over 500 species:\n",
      "Orange: 615 species in 8 counties\n",
      "Lincoln: 594 species in 24 counties\n",
      "Washington: 586 species in 31 counties\n",
      "Jefferson: 586 species in 26 counties\n",
      "Santa Cruz: 569 species in 2 counties\n",
      "Los Angeles: 551 species in 1 county\n",
      "San Diego: 547 species in 1 county\n",
      "Lake: 536 species in 12 counties\n",
      "Jackson: 531 species in 24 counties\n",
      "Hidalgo: 530 species in 2 counties\n",
      "Clark: 529 species in 12 counties\n",
      "Grant: 526 species in 15 counties\n",
      "Douglas: 526 species in 12 counties\n",
      "Cameron: 523 species in 3 counties\n",
      "Santa Barbara: 515 species in 1 county\n",
      "Monterey: 505 species in 1 county\n",
      "Marin: 505 species in 1 county\n",
      "Franklin: 501 species in 25 counties\n",
      "Humboldt: 501 species in 3 counties\n",
      "\n",
      "The worst counties to bird in (with multiple county names contibuting):\n",
      "Simpson: 199 species in 2 counties\n",
      "Wilcox: 197 species in 2 counties\n",
      "Wilkinson: 195 species in 2 counties\n"
     ]
    }
   ],
   "source": [
    "print('The best counties to bird in over 500 species:')\n",
    "sad_msg = '\\nThe worst counties to bird in (with multiple county names contibuting):'\n",
    "for name in sorted(spp_dict, key=lambda name: len(spp_dict[name][1]), reverse=True):\n",
    "    num_counties = spp_dict[name][0]\n",
    "    num_species = len(spp_dict[name][1])\n",
    "    \n",
    "    if num_species > 500 or num_species < 200:\n",
    "        \n",
    "        if num_species < 200:\n",
    "            if num_counties > 1:\n",
    "                if sad_msg is not False:\n",
    "                    print(sad_msg)\n",
    "                    sad_msg = False\n",
    "            else:\n",
    "                continue\n",
    "            \n",
    "        if num_counties > 1:\n",
    "            county_string = 'counties'\n",
    "        else:\n",
    "            county_string = 'county'\n",
    "        print(f'{name}: {num_species} species in {num_counties} {county_string}')"
   ]
  },
  {
   "cell_type": "markdown",
   "metadata": {},
   "source": [
    "## Let's get personal"
   ]
  },
  {
   "cell_type": "markdown",
   "metadata": {},
   "source": [
    "If I was forced to only bird in one county name from now on, with my current life list, which county should I choose?\n",
    "\n",
    "I have already downloaded my eBird life list (`'csvs/my_ebird_world_life_list.csv'`). It has a column, `'Species'`, which is composed of the species I have seen in the following format: `Common Name - Scientific Name`. I'll first get a list of just common names:"
   ]
  },
  {
   "cell_type": "code",
   "execution_count": 6,
   "metadata": {},
   "outputs": [],
   "source": [
    "my_life_list_sciname = pd.read_csv('csvs/my_ebird_world_life_list.csv')['Species']\n",
    "my_life_list = set([sp.split(' - ')[0] for sp in my_life_list_sciname])"
   ]
  },
  {
   "cell_type": "markdown",
   "metadata": {},
   "source": [
    "And now, for each county, delete all the species from its list that I have already seen."
   ]
  },
  {
   "cell_type": "code",
   "execution_count": 7,
   "metadata": {},
   "outputs": [],
   "source": [
    "# Create a dictionary associating county names with my lifers\n",
    "my_spp_dict = {}\n",
    "\n",
    "for name in usa_county_names:\n",
    "    spp_in_counties = set(spp_dict[name][1])\n",
    "    num_counties = spp_dict[name][0]\n",
    "    \n",
    "    # For each county list, subtract sets to find the list of lifers\n",
    "    lifer_spp = spp_in_counties - my_life_list\n",
    "    my_spp_dict[name] = (num_counties, lifer_spp)"
   ]
  },
  {
   "cell_type": "markdown",
   "metadata": {},
   "source": [
    "Organize and print the results!"
   ]
  },
  {
   "cell_type": "code",
   "execution_count": 8,
   "metadata": {},
   "outputs": [
    {
     "name": "stdout",
     "output_type": "stream",
     "text": [
      "Best county names for my life list:\n",
      "Santa Cruz: 231 lifers in 2 counties\n",
      "Orange: 228 lifers in 8 counties\n",
      "Lincoln: 216 lifers in 24 counties\n",
      "Los Angeles: 214 lifers in 1 county\n",
      "Hidalgo: 212 lifers in 2 counties\n",
      "San Diego: 209 lifers in 1 county\n",
      "Washington: 206 lifers in 31 counties\n",
      "Jefferson: 205 lifers in 26 counties\n"
     ]
    }
   ],
   "source": [
    "print('Best county names for my life list:')\n",
    "for name in sorted(my_spp_dict, key=lambda name: len(my_spp_dict[name][1]), reverse=True):  \n",
    "    num_counties = my_spp_dict[name][0]\n",
    "    num_species = len(my_spp_dict[name][1])\n",
    "    if num_counties > 1:\n",
    "        county_string = 'counties'\n",
    "    else:\n",
    "        county_string = 'county'\n",
    "    if num_species > 200:\n",
    "        print(f'{name}: {num_species} lifers in {num_counties} {county_string}')"
   ]
  }
 ],
 "metadata": {
  "kernelspec": {
   "display_name": "Python 3",
   "language": "python",
   "name": "python3"
  },
  "language_info": {
   "codemirror_mode": {
    "name": "ipython",
    "version": 3
   },
   "file_extension": ".py",
   "mimetype": "text/x-python",
   "name": "python",
   "nbconvert_exporter": "python",
   "pygments_lexer": "ipython3",
   "version": "3.6.9"
  }
 },
 "nbformat": 4,
 "nbformat_minor": 4
}
